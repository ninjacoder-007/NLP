{
 "cells": [
  {
   "cell_type": "code",
   "execution_count": null,
   "id": "db6fd594",
   "metadata": {},
   "outputs": [],
   "source": [
    ". Can you think of a few applications for a sequence-to-sequence RNN? What about a sequence-to-vector RNN? And a vector-to-sequence RNN?"
   ]
  },
  {
   "cell_type": "code",
   "execution_count": null,
   "id": "431291fe",
   "metadata": {},
   "outputs": [],
   "source": [
    "In Sequence to Sequence Learning, RNN is trained to map an input sequence to an output sequence which is not necessarily of the same length. Applications are speech recognition, machine translation, image captioning and question answering.\n",
    "\n",
    "Applications of Recurrent Neural Networks (sequence-to-vector)(vector-to-sequence):\n",
    "\n",
    "Prediction problems\n",
    "Machine Translation\n",
    "Speech Recognition\n",
    "Language Modelling and Generating Text\n",
    "Video Tagging\n",
    "Generating Image Descriptions\n",
    "Text Summarization\n",
    "Call Center Analysis\n",
    "Face detection,\n",
    "OCR Applications as Image Recognition"
   ]
  },
  {
   "cell_type": "code",
   "execution_count": null,
   "id": "0a196267",
   "metadata": {},
   "outputs": [],
   "source": [
    "2. Why do people use encoder–decoder RNNs rather than plain sequence-to-sequence RNNs for automatic translation?"
   ]
  },
  {
   "cell_type": "code",
   "execution_count": null,
   "id": "9315e22a",
   "metadata": {},
   "outputs": [],
   "source": [
    "Attention is an extension to the architecture that addresses this limitation. It works by first providing a richer context from the encoder to the decoder and a learning mechanism where the decoder can learn where to pay attention in the richer encoding when predicting each time step in the output sequence."
   ]
  },
  {
   "cell_type": "code",
   "execution_count": null,
   "id": "8b010772",
   "metadata": {},
   "outputs": [],
   "source": [
    "3. How could you combine a convolutional neural network with an RNN to classify videos?"
   ]
  },
  {
   "cell_type": "code",
   "execution_count": null,
   "id": "aeede317",
   "metadata": {},
   "outputs": [],
   "source": [
    "Taking advantage of the strengths of both CNN and RNN, the combination outperforms those individual models. Another method to combine them together is to let RNN encode the input representation and feed the outputs into CNN.\n",
    "\n",
    "The images of a video are fed to a CNN model to extract high-level features. The features are then fed to an RNN layer and the output of the RNN layer is connected to a fully connected layer to get the classification output.\n",
    "\n"
   ]
  },
  {
   "cell_type": "code",
   "execution_count": null,
   "id": "0e03d9a2",
   "metadata": {},
   "outputs": [],
   "source": [
    "4. What are the advantages of building an RNN using dynamic_rnn() rather than static_rnn()?"
   ]
  },
  {
   "cell_type": "code",
   "execution_count": null,
   "id": "2ba34dd4",
   "metadata": {},
   "outputs": [],
   "source": [
    "The dynamic_rnn() function uses a while_loop() operation to run over the cell the appropriate number of times, and you can set swap_memory=True if you want it to swap the GPU’s memory to the CPU’s memory during backpropagation to avoid OOM errors. Conveniently, it also accepts a single tensor for all inputs at every time step (shape [None, n_steps, n_inputs]) and it outputs a single tensor for all outputs at every time step (shape [None, n_steps, n_neurons]); there is no need to stack, unstack, or transpose. The following code creates the same RNN as earlier using the dynamic_rnn() function. It’s so much nicer!"
   ]
  },
  {
   "cell_type": "code",
   "execution_count": null,
   "id": "35c6b840",
   "metadata": {},
   "outputs": [],
   "source": [
    "5. How can you deal with variable-length input sequences? What about variable-length output sequences?"
   ]
  },
  {
   "cell_type": "markdown",
   "id": "7233dd5e",
   "metadata": {},
   "source": [
    "How to deal with variable length?\n",
    "Approach 1: create separate batches of 1 sequence, each batch with its own length. Feed each batch to the model individually. ...\n",
    "\n",
    "Approach 2: create a fixed length batch, fill the unused tail lenght of each sequence with 0, use the parameter mask_zero=True in the embedding layers.\n",
    "\n",
    "In the case of variable length sequence prediction problems, this requires that your data be transformed such that each sequence has the same length. This vectorization allows code to efficiently perform the matrix operations in batch for your chosen deep learning algorithms"
   ]
  },
  {
   "cell_type": "code",
   "execution_count": null,
   "id": "2523b13a",
   "metadata": {},
   "outputs": [],
   "source": [
    "6. What is a common way to distribute training and execution of a deep RNN across multiple GPUs?"
   ]
  },
  {
   "cell_type": "code",
   "execution_count": null,
   "id": "f8e245c2",
   "metadata": {},
   "outputs": [],
   "source": [
    "If you have more than one GPU, the GPU with the lowest ID will be selected by default. However, TensorFlow does not place operations into multiple GPUs automatically. To override the device placement to use multiple GPUs, we manually specify the device that a computation node should run on.\n",
    "\n",
    "Distributed deep learning is one such method that enables data scientists to massively increase their productivity by (1) running parallel experiments over many devices (GPUs/TPUs/servers) and (2) massively reducing training time by distributing the training of a single network over many devices.\n",
    "\n",
    "The GPUs can all be on the same node or across multiple nodes. Only gradients are passed between the processes/GPUs. During training, each process loads its own mini-batch from disk and passes it to its GPU. Each GPU does its forward pass, then the gradients are all-reduced across the GPUs.\n",
    "\n",
    "Copy the model on every GPU.\n",
    "Split the dataset and fit the models on different subsets.\n",
    "Communicate the gradients at each iteration to keep the models in sync."
   ]
  }
 ],
 "metadata": {
  "kernelspec": {
   "display_name": "Python 3",
   "language": "python",
   "name": "python3"
  },
  "language_info": {
   "codemirror_mode": {
    "name": "ipython",
    "version": 3
   },
   "file_extension": ".py",
   "mimetype": "text/x-python",
   "name": "python",
   "nbconvert_exporter": "python",
   "pygments_lexer": "ipython3",
   "version": "3.8.8"
  }
 },
 "nbformat": 4,
 "nbformat_minor": 5
}
